{
    "cells": [
        {
            "cell_type": "markdown",
            "id": "ac622319",
            "metadata": {},
            "source": [
                "# Descriptive statistics problems"
            ]
        },
        {
            "cell_type": "markdown",
            "id": "aa8993e4",
            "metadata": {},
            "source": [
                "### Exercise 1"
            ]
        },
        {
            "cell_type": "markdown",
            "id": "5e0ab0d5",
            "metadata": {},
            "source": [
                "We will use Numpy to obtain information to describe statistically.\n",
                "\n",
                "- Generate an array of 100 elements following a normal distribution.\n",
                "- Generate an array of 100 elements following a chi-square distribution with 3 degrees of freedom.\n",
                "- Calculate the main metrics and statistical measures that best describe the two vectors."
            ]
        },
        {
            "cell_type": "code",
            "execution_count": null,
            "id": "7014e21e",
            "metadata": {},
            "outputs": [],
            "source": []
        },
        {
            "cell_type": "code",
            "execution_count": 5,
            "id": "34720ab6",
            "metadata": {},
            "outputs": [
                {
                    "name": "stdout",
                    "output_type": "stream",
                    "text": [
                        "Mean of the array following a normal distribution: 1.0972918786187607\n",
                        "Mean of the array following a chi-square distribution with 3 degrees of freedom: 2.8879304455852624\n",
                        "Median of the array following a normal distribution: 1.0032713069676622\n",
                        "Median of the array following a chi-square distribution with 3 degrees of freedom: 2.3914575756256022\n",
                        "Variance of the array following a normal distribution: 3.8430003760815783\n",
                        "Variance of the array following a chi-square distribution with 3 degrees of freedom: 6.15870747616319\n",
                        "Standard deviation of the array following a normal distribution: 1.9603572062462438\n",
                        "Standard deviation of the array following a chi-square distribution with 3 degrees of freedom: 2.4816743291905143\n",
                        "Range of the array following a normal distribution: 10.51789927274065\n",
                        "Range of the array following a chi-square distribution with 3 degrees of freedom: 15.34053741405028\n",
                        "Mode of the array following a normal distribution: 1.9603572062462438\n",
                        "Mode of the array following a chi-square distribution with 3 degrees of freedom: 2.4816743291905143\n",
                        "Skewness of the array following a normal distribution: 0.09859491798436583\n",
                        "Skewness of the array following a chi-square distribution with 3 degrees of freedom: 1.9355293730121312\n",
                        "Kurtosis of the array following a normal distribution: 0.3358129567497863\n",
                        "Kurtosis of the array following a chi-square distribution with 3 degrees of freedom: 5.954875788273947\n"
                    ]
                }
            ],
            "source": [
                "# TODO\n",
                "import numpy as np\n",
                "import statistics as stats\n",
                "from scipy.stats import skew\n",
                "from scipy.stats import kurtosis\n",
                "\n",
                "\n",
                "normal=np.random.normal(1,2,100)\n",
                "chisquare=np.random.chisquare(3,100)\n",
                "\n",
                "\n",
                "mean_normal= stats.mean(normal)\n",
                "mean_chi= stats.mean(chisquare)\n",
                "print(f'Mean of the array following a normal distribution: {mean_normal}')\n",
                "print(f'Mean of the array following a chi-square distribution with 3 degrees of freedom: {mean_chi}')\n",
                "\n",
                "\n",
                "median_normal=stats.median(normal)\n",
                "median_chi=stats.median(chisquare)\n",
                "print(f'Median of the array following a normal distribution: {median_normal}')\n",
                "print(f'Median of the array following a chi-square distribution with 3 degrees of freedom: {median_chi}')\n",
                "\n",
                "\n",
                "variance_normal=stats.variance(normal)\n",
                "variance_chi=stats.variance(chisquare)\n",
                "print(f'Variance of the array following a normal distribution: {variance_normal}')\n",
                "print(f'Variance of the array following a chi-square distribution with 3 degrees of freedom: {variance_chi}')\n",
                "\n",
                "\n",
                "std_normal=stats.stdev(normal)\n",
                "std_chi=stats.stdev(chisquare)\n",
                "print(f'Standard deviation of the array following a normal distribution: {std_normal}')\n",
                "print(f'Standard deviation of the array following a chi-square distribution with 3 degrees of freedom: {std_chi}')\n",
                "\n",
                "\n",
                "range_normal=max(normal) - min(normal)\n",
                "range_chi=max(chisquare) - min(chisquare)\n",
                "print(f'Range of the array following a normal distribution: {range_normal}')\n",
                "print(f'Range of the array following a chi-square distribution with 3 degrees of freedom: {range_chi}')\n",
                "\n",
                "\n",
                "mode_normal=stats.mode(normal)\n",
                "mode_chi=stats.mode(chisquare)\n",
                "print(f'Mode of the array following a normal distribution: {std_normal}')\n",
                "print(f'Mode of the array following a chi-square distribution with 3 degrees of freedom: {std_chi}')\n",
                "\n",
                "\n",
                "skew_normal = skew(normal)\n",
                "skew_chi = skew(chisquare)\n",
                "print(f'Skewness of the array following a normal distribution: {skew_normal}')\n",
                "print(f'Skewness of the array following a chi-square distribution with 3 degrees of freedom: {skew_chi}')\n",
                "\n",
                "\n",
                "kurtosis_normal = kurtosis(normal)\n",
                "kurtosis_chi = kurtosis(chisquare)\n",
                "print(f'Kurtosis of the array following a normal distribution: {kurtosis_normal}')\n",
                "print(f'Kurtosis of the array following a chi-square distribution with 3 degrees of freedom: {kurtosis_chi}')\n"
            ]
        },
        {
            "cell_type": "markdown",
            "id": "46c70c3d",
            "metadata": {},
            "source": [
                "### Exercise 2\n",
                "\n",
                "Write a Python program to calculate the standard deviation of the following data:\n",
                "\n",
                "```py\n",
                "data = [4, 2, 5, 8, 6]\n",
                "```"
            ]
        },
        {
            "cell_type": "code",
            "execution_count": 11,
            "id": "d590308e",
            "metadata": {},
            "outputs": [
                {
                    "name": "stdout",
                    "output_type": "stream",
                    "text": [
                        "The standard deviation of the given data is: 2.23606797749979\n",
                        "The standard deviation of the given data is: 2.0\n",
                        "The standard deviation of the given data is: 2.0\n"
                    ]
                }
            ],
            "source": [
                "# TODO\n",
                "\n",
                "data=[4,2,5,8,6]\n",
                "\n",
                "import statistics as stats\n",
                "import numpy as np\n",
                "import math\n",
                "\n",
                "#In three steps:\n",
                "#mean = sum(data)/len(data)\n",
                "#variance = sum([((x - mean) ** 2) for x in X]) / len(data)\n",
                "#stddev = variance ** 0.5\n",
                "\n",
                "stddev_data = math.sqrt(sum([((x - (sum(data)/len(data))) ** 2) for x in data]) / len(data))\n",
                "\n",
                "\n",
                "print(f'The standard deviation of the given data is: {stats.stdev(data)}')\n",
                "print(f'The standard deviation of the given data is: {np.std(data)}')\n",
                "print(f'The standard deviation of the given data is: {stddev}')"
            ]
        }
    ],
    "metadata": {
        "interpreter": {
            "hash": "9248718ffe6ce6938b217e69dbcc175ea21f4c6b28a317e96c05334edae734bb"
        },
        "kernelspec": {
            "display_name": "Python 3.9.12 ('ML-BOOTCAMP')",
            "language": "python",
            "name": "python3"
        },
        "language_info": {
            "codemirror_mode": {
                "name": "ipython",
                "version": 3
            },
            "file_extension": ".py",
            "mimetype": "text/x-python",
            "name": "python",
            "nbconvert_exporter": "python",
            "pygments_lexer": "ipython3",
            "version": "3.11.4"
        }
    },
    "nbformat": 4,
    "nbformat_minor": 5
}
